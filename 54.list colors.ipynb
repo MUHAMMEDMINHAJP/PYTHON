{
 "cells": [
  {
   "cell_type": "code",
   "execution_count": 4,
   "metadata": {},
   "outputs": [
    {
     "name": "stdout",
     "output_type": "stream",
     "text": [
      "first color list= {'Red', 'Black', 'White'}\n",
      "second color list= {'Red', 'Green'}\n",
      "Difference of color list 1 and color list 2: {'Black', 'White'}\n"
     ]
    }
   ],
   "source": [
    "#Print out all colors from color-list1 not contained in color-list2\n",
    "colorlist1 = set([\"White\", \"Black\", \"Red\"])\n",
    "colorlist2 = set([\"Red\", \"Green\"])\n",
    "print(\"first color list=\",colorlist1)\n",
    "print(\"second color list=\",colorlist2)\n",
    "print(\"Difference of color list 1 and color list 2:\",colorlist1.difference(colorlist2))\n",
    "\n",
    " "
   ]
  },
  {
   "cell_type": "code",
   "execution_count": null,
   "metadata": {
    "collapsed": true
   },
   "outputs": [],
   "source": []
  }
 ],
 "metadata": {
  "kernelspec": {
   "display_name": "Python 3",
   "language": "python",
   "name": "python3"
  },
  "language_info": {
   "codemirror_mode": {
    "name": "ipython",
    "version": 3
   },
   "file_extension": ".py",
   "mimetype": "text/x-python",
   "name": "python",
   "nbconvert_exporter": "python",
   "pygments_lexer": "ipython3",
   "version": "3.6.3"
  }
 },
 "nbformat": 4,
 "nbformat_minor": 2
}
