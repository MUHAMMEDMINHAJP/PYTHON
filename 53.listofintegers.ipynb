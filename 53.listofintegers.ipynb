{
 "cells": [
  {
   "cell_type": "code",
   "execution_count": 1,
   "id": "91cb1d0c",
   "metadata": {},
   "outputs": [
    {
     "name": "stdout",
     "output_type": "stream",
     "text": [
      "enter no seperated by comma10,12,13,14\n",
      "enter no seperated by comma10,12,13,14\n",
      "both list are of equal length\n",
      " sum of two list are  equal\n",
      "10  occurs in both lst\n",
      "12  occurs in both lst\n",
      "13  occurs in both lst\n",
      "14  occurs in both lst\n"
     ]
    }
   ],
   "source": [
    "#compare two lists\n",
    "lst1 =input(\"enter no seperated by comma\").split(\",\")\n",
    "lst2 = input(\"enter no seperated by comma\").split(\",\")\n",
    "sum1 = str(0)\n",
    "sum2 = str(0)\n",
    "if len(lst1) == len(lst2):\n",
    "    print(\"both list are of equal length\")\n",
    "else:\n",
    "    print(\"Two lists have unequal length\")\n",
    "for x in lst1:\n",
    "    sum1 = sum1 + x\n",
    "for x in lst2:\n",
    "    sum2 = sum2 + x\n",
    "if sum1 == sum2:\n",
    "    a = \"equal\"  \n",
    "else:\n",
    "    a = \"not equal\"  \n",
    "print(\" sum of two list are \", a)  \n",
    "for x in lst1:\n",
    "    for y in lst2:\n",
    "        if x == y:\n",
    "            print(y,\" occurs in both lst\")"
   ]
  },
  {
   "cell_type": "code",
   "execution_count": null,
   "id": "004085f8",
   "metadata": {},
   "outputs": [],
   "source": []
  }
 ],
 "metadata": {
  "kernelspec": {
   "display_name": "Python 3 (ipykernel)",
   "language": "python",
   "name": "python3"
  },
  "language_info": {
   "codemirror_mode": {
    "name": "ipython",
    "version": 3
   },
   "file_extension": ".py",
   "mimetype": "text/x-python",
   "name": "python",
   "nbconvert_exporter": "python",
   "pygments_lexer": "ipython3",
   "version": "3.7.11"
  }
 },
 "nbformat": 4,
 "nbformat_minor": 5
}
