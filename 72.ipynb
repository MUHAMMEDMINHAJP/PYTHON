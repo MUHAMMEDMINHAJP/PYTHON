{
 "cells": [
  {
   "cell_type": "code",
   "execution_count": 18,
   "metadata": {},
   "outputs": [
    {
     "name": "stdout",
     "output_type": "stream",
     "text": [
      "\n",
      " FIRST RECTANGLE :-\n",
      "\n",
      "Enter length of Rectangle1: 4\n",
      "Enter breadth of Rectangle1:2\n",
      "\n",
      "SECOND RECTANGLE :-\n",
      "\n",
      "Enter length of Rectangle2:5\n",
      "Enter breadth of Rectangle2:2\n",
      "\n",
      "*********************************\n",
      "\n",
      "\n",
      "area of first rectangle: 8\n",
      "perimeter of first rectangle: 12\n",
      "\n",
      "*********************************\n",
      "\n",
      "\n",
      "area of second rectangle: 10\n",
      "perimeter of second rectangle: 14\n",
      "\n",
      "Rectangle 2 is greater\n"
     ]
    }
   ],
   "source": [
    "class rectangle():\n",
    "    def get(self,l,b):\n",
    "        self.l=l\n",
    "        self.b=b\n",
    "    def area(self,l,b):\n",
    "        return l*b\n",
    "    def perimeter(self,l,b):\n",
    "        return 2*(l+b)\n",
    "\n",
    "r1=rectangle()\n",
    "r2=rectangle()\n",
    "print(\"\\n FIRST RECTANGLE :-\\n\")\n",
    "l1=int(input(\"Enter length of Rectangle1: \"))\n",
    "b1=int(input(\"Enter breadth of Rectangle1:\"))\n",
    "print(\"\\nSECOND RECTANGLE :-\\n\")\n",
    "l2=int(input(\"Enter length of Rectangle2:\"))\n",
    "b2=int(input(\"Enter breadth of Rectangle2:\"))\n",
    "\n",
    "p=r1.area(l1,b1)\n",
    "q=r2.area(l2,b2)\n",
    "r=r1.perimeter(l1,b1)\n",
    "s=r2.perimeter(l2,b2)\n",
    "print(\"\\n*********************************\\n\")\n",
    "print(\"\\narea of first rectangle:\",p)\n",
    "print(\"perimeter of first rectangle:\",r)\n",
    "print(\"\\n*********************************\\n\")\n",
    "print(\"\\narea of second rectangle:\",q)\n",
    "print(\"perimeter of second rectangle:\",s)\n",
    "if(p>q):\n",
    "    print(\"\\nRectangle 1 is greater\")\n",
    "elif(p<q):\n",
    "    print(\"\\nRectangle 2 is greater\")\n",
    "else:\n",
    "    print(\"\\nRectangles are equal\")"
   ]
  },
  {
   "cell_type": "code",
   "execution_count": null,
   "metadata": {
    "collapsed": true
   },
   "outputs": [],
   "source": []
  }
 ],
 "metadata": {
  "kernelspec": {
   "display_name": "Python 3",
   "language": "python",
   "name": "python3"
  },
  "language_info": {
   "codemirror_mode": {
    "name": "ipython",
    "version": 3
   },
   "file_extension": ".py",
   "mimetype": "text/x-python",
   "name": "python",
   "nbconvert_exporter": "python",
   "pygments_lexer": "ipython3",
   "version": "3.6.3"
  }
 },
 "nbformat": 4,
 "nbformat_minor": 2
}
