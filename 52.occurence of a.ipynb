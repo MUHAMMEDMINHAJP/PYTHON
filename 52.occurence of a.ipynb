{
 "cells": [
  {
   "cell_type": "code",
   "execution_count": 1,
   "id": "e2dd1d0c",
   "metadata": {},
   "outputs": [
    {
     "name": "stdout",
     "output_type": "stream",
     "text": [
      "names= ['john', 'david', 'logan', 'joy', 'ramesh']\n",
      "occurence of a in ['john', 'david', 'logan', 'joy', 'ramesh']  is: 3\n"
     ]
    }
   ],
   "source": [
    "#52.Store a list of first names.Count the occurrences of ‘a’ within the list.\n",
    "names=['john','david','logan','joy','ramesh']\n",
    "print(\"names=\",names)\n",
    "count=0\n",
    "for name in names:\n",
    "    count+=name.count('a')\n",
    "print(\"occurence of a in\",names,\" is:\",count)"
   ]
  },
  {
   "cell_type": "code",
   "execution_count": null,
   "id": "b63f362b",
   "metadata": {},
   "outputs": [],
   "source": []
  }
 ],
 "metadata": {
  "kernelspec": {
   "display_name": "Python 3 (ipykernel)",
   "language": "python",
   "name": "python3"
  },
  "language_info": {
   "codemirror_mode": {
    "name": "ipython",
    "version": 3
   },
   "file_extension": ".py",
   "mimetype": "text/x-python",
   "name": "python",
   "nbconvert_exporter": "python",
   "pygments_lexer": "ipython3",
   "version": "3.7.11"
  }
 },
 "nbformat": 4,
 "nbformat_minor": 5
}
