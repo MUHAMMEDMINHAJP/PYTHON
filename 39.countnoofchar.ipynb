{
 "cells": [
  {
   "cell_type": "code",
   "execution_count": 1,
   "metadata": {},
   "outputs": [
    {
     "name": "stdout",
     "output_type": "stream",
     "text": [
      "enter a string:1,2,3,4\n",
      "Total number of characters in a string: {'1': 1, ',': 3, '2': 1, '3': 1, '4': 1}\n"
     ]
    }
   ],
   "source": [
    "#count the number of characters in a string\n",
    "s=input(\"enter a string:\")\n",
    "c={}\n",
    "for i in s:\n",
    "    if i in c:\n",
    "        c[i]=c[i]+1\n",
    "    else:\n",
    "        c[i]=1\n",
    "print(\"Total number of characters in a string: \" + str(c));\n"
   ]
  },
  {
   "cell_type": "code",
   "execution_count": null,
   "metadata": {
    "collapsed": true
   },
   "outputs": [],
   "source": []
  }
 ],
 "metadata": {
  "kernelspec": {
   "display_name": "Python 3",
   "language": "python",
   "name": "python3"
  },
  "language_info": {
   "codemirror_mode": {
    "name": "ipython",
    "version": 3
   },
   "file_extension": ".py",
   "mimetype": "text/x-python",
   "name": "python",
   "nbconvert_exporter": "python",
   "pygments_lexer": "ipython3",
   "version": "3.6.3"
  }
 },
 "nbformat": 4,
 "nbformat_minor": 2
}
