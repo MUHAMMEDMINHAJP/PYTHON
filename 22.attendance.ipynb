{
 "cells": [
  {
   "cell_type": "code",
   "execution_count": 2,
   "metadata": {},
   "outputs": [
    {
     "name": "stdout",
     "output_type": "stream",
     "text": [
      "NUMBER OF CLASS HELD:100\n",
      "NUMBER OF CLASSES ATTENDED:80\n",
      "percentage =80 \n",
      "Eligible to write exam\n"
     ]
    }
   ],
   "source": [
    "a=int(input(\"NUMBER OF CLASS HELD:\"))\n",
    "b=int(input(\"NUMBER OF CLASSES ATTENDED:\"))\n",
    "c=(100*b)/a\n",
    "print(\"percentage =%d \" %c)\n",
    "if(c>=75):\n",
    "    print(\"Eligible to write exam\")\n",
    "else:\n",
    "    print(\"not eligible to write exam\")\n"
   ]
  },
  {
   "cell_type": "code",
   "execution_count": null,
   "metadata": {
    "collapsed": true
   },
   "outputs": [],
   "source": []
  }
 ],
 "metadata": {
  "kernelspec": {
   "display_name": "Python 3",
   "language": "python",
   "name": "python3"
  },
  "language_info": {
   "codemirror_mode": {
    "name": "ipython",
    "version": 3
   },
   "file_extension": ".py",
   "mimetype": "text/x-python",
   "name": "python",
   "nbconvert_exporter": "python",
   "pygments_lexer": "ipython3",
   "version": "3.6.3"
  }
 },
 "nbformat": 4,
 "nbformat_minor": 2
}
