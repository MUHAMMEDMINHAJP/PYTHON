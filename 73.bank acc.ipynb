{
 "cells": [
  {
   "cell_type": "code",
   "execution_count": null,
   "metadata": {},
   "outputs": [
    {
     "name": "stdout",
     "output_type": "stream",
     "text": [
      "Enter name: 4242\n",
      "Enter account number: 14\n",
      "Enter account type: 2143\n",
      "Enter initial balance: 435\n"
     ]
    }
   ],
   "source": [
    "#bank account details\n",
    "class bankaccount:\n",
    "    def __init__(self,a_name, a_no,a_type,a_balance):\n",
    "        self.acc_name=a_name\n",
    "        self.acc_no=a_no\n",
    "        self.acc_type=a_type\n",
    "        self.acc_balance=a_balance\n",
    "    def deposit(self,a_deposit):\n",
    "         print(\"Initial balance: \",self.acc_balance)\n",
    "         self.acc_balance+=a_deposit\n",
    "         print(a_  {
112
   "cell_type": "code",
113
   "execution_count": null,
114
   "metadata": {
115
    "collapsed": true
116
   },
117
   "outputs": [],
118
   "source": []
119
  },
120
  {
121
   "cell_type": "code",
122
   "execution_count": null,
123
   "metadata": {
124
    "collapsed": true
125
   },
126
   "outputs": [],
127
   "source": []deposit, \"is deposited\")\n",
    "         print(\"current balance: \",self.acc_balance)  \n",
    "    def withdraw(self):\n",
    "        self.amount=int(input(\"Withdraw amount: \"))\n",
    "        print(\"Initial balance: \",self.acc_balance)\n",
    "        if self.amount > self.acc_balance:\n",
    "            print(\"You don't have enough balance to withdraw !!\")\n",
    "            print(\"Current balance: \",self.acc_balance)\n",
    "        else:\n",
    "            print(self.amount,\" is withdrawed\")\n",
    "            self.acc_balance-=self.amount\n",
    "            print(\"Current balance: \",self.acc_balance)\n",
    "    def acc_info(self):\n",
    "        print(\"Account holder Name: \", self.acc_name)\n",
    "        print(\"Account Number: \", self.acc_no)\n",
    "        print(\"Account Type: \", self.acc_type)\n",
    "        print(\"Account Balance: \", self.acc_balance)\n",
    "name=input(\"Enter name: \")\n",
    "no=int(input(\"Enter account number: \"))\n",
    "type=input(\"Enter account type: \")\n",
    "bal=int(input(\"Enter initial balance: \"))\n",
    "holder=bankaccount(name,no,type,bal)        \n",
    "while(True):\n",
    "    ch=int(input(\"1. Deposit \\n2. Withdraw \\n3. Account info\\n 4.Exit\\n Choose your option: \"))\n",
    "   \n",
    "    if ch==1:\n",
    "                 amount=int(input(\"Deposit amount: \"))\n",
    "                 holder.deposit(amount)\n",
    "    elif ch==2:\n",
    "                 holder.withdraw()\n",
    "    elif ch==3:\n",
    "                 holder.acc_info()\n",
    "    else:\n",
    "                 print(\"Exiting...\")\n",
    "                 break
   ]
  },
  {
   "cell_type": "code",
   "execution_count": null,
   "metadata": {
    "collapsed": true
   },
   "outputs": [],
   "source": []
  },
  {
   "cell_type": "code",
   "execution_count": null,
   "metadata": {
    "collapsed": true
   },
   "outputs": [],
   "source": []
  }
 ],
 "metadata": {
  "kernelspec": {
   "display_name": "Python 3",
   "language": "python",
   "name": "python3"
  },
  "language_info": {
   "codemirror_mode": {
    "name": "ipython",
    "version": 3
   },
   "file_extension": ".py",
   "mimetype": "text/x-python",
   "name": "python",
   "nbconvert_exporter": "python",
   "pygments_lexer": "ipython3",
   "version": "3.6.3"
  }
 },
 "nbformat": 4,
 "nbformat_minor": 2
}
