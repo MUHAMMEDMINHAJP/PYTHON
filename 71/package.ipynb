{
 "cells": [
  {
   "cell_type": "code",
   "execution_count": null,
   "metadata": {},
   "outputs": [
    {
     "name": "stdout",
     "output_type": "stream",
     "text": [
      "1.rectangle\n",
      " 2.circle\n",
      " 3.cuboid\n",
      " 4.sphere\n",
      "\n",
      "enter your choice :2\n",
      "enter the radius :4\n",
      "area =  50.24\n",
      "primeater = 25.12\n",
      "1.rectangle\n",
      " 2.circle\n",
      " 3.cuboid\n",
      " 4.sphere\n",
      "\n"
     ]
    }
   ],
   "source": [
    "\n",
    "from graphics import rectangle\n",
    "from graphics import circle\n",
    "from graphics.graphics3D import cuboid\n",
    "from graphics.graphics3D import sph\n",
    "while(1):\n",
    "    print(\"1.rectangle\\n 2.circle\\n 3.cuboid\\n 4.sphere\\n\")\n",
    "    ch=int(input(\"enter your choice :\"))\n",
    "    if ch==1:\n",
    "        l=int(input(\"enter the length :\"))\n",
    "        b=int(input(\"enter the breadth :\"))\n",
    "        rectangle.rectarea(l,b)\n",
    "        rectangle.rectperi(l,b)\n",
    "    if ch==2:\n",
    "        r=int(input(\"enter the radius :\"))\n",
    "        circle.circlearea(r)\n",
    "        circle.circleperi(r)\n",
    "    if ch==3:\n",
    "        l=int(input(\"enter the length :\"))\n",
    "        b=int(input(\"enter the breadth :\"))\n",
    "        h=int(input(\"enter the hieght :\"))\n",
    "        cuboid.cuboidarea(l,b,h)\n",
    "        cuboid.cuboidperi(l,b,h)\n",
    "    if ch==4:\n",
    "        r=int(input(\"enter the radius :\"))\n",
    "        sph.spherearea(r)\n",
    "        sph.sphereperi(r)\n",
    "        "
   ]
  },
  {
   "cell_type": "code",
   "execution_count": null,
   "metadata": {
    "collapsed": true
   },
   "outputs": [],
   "source": []
  }
 ],
 "metadata": {
  "kernelspec": {
   "display_name": "Python 3",
   "language": "python",
   "name": "python3"
  },
  "language_info": {
   "codemirror_mode": {
    "name": "ipython",
    "version": 3
   },
   "file_extension": ".py",
   "mimetype": "text/x-python",
   "name": "python",
   "nbconvert_exporter": "python",
   "pygments_lexer": "ipython3",
   "version": "3.6.3"
  }
 },
 "nbformat": 4,
 "nbformat_minor": 2
}
