{
 "cells": [
  {
   "cell_type": "code",
   "execution_count": 11,
   "metadata": {},
   "outputs": [
    {
     "name": "stdout",
     "output_type": "stream",
     "text": [
      "enter the begining range:1\n",
      "enter the end range:10\n",
      "prime number from 1 to 10 are:\n",
      "2\n",
      "3\n",
      "5\n",
      "7\n"
     ]
    }
   ],
   "source": [
    "#44 display the prime number with in a range\n",
    "#leapyear within a range\n",
    "a=int(input(\"enter the begining range:\"))\n",
    "b=int(input(\"enter the end range:\"))\n",
    "print(\"prime number from %d to %d are:\" %(a,b))\n",
    "for n in range(a,b+1):\n",
    "    if n>1:\n",
    "        for i in range(2,n):\n",
    "            if(n%i)==0:\n",
    "                break\n",
    "            \n",
    "        else:\n",
    "            print(n)"
   ]
  },
  {
   "cell_type": "code",
   "execution_count": null,
   "metadata": {
    "collapsed": true
   },
   "outputs": [],
   "source": []
  }
 ],
 "metadata": {
  "kernelspec": {
   "display_name": "Python 3",
   "language": "python",
   "name": "python3"
  },
  "language_info": {
   "codemirror_mode": {
    "name": "ipython",
    "version": 3
   },
   "file_extension": ".py",
   "mimetype": "text/x-python",
   "name": "python",
   "nbconvert_exporter": "python",
   "pygments_lexer": "ipython3",
   "version": "3.6.3"
  }
 },
 "nbformat": 4,
 "nbformat_minor": 2
}
