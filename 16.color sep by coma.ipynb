{
 "cells": [
  {
   "cell_type": "code",
   "execution_count": 5,
   "metadata": {},
   "outputs": [
    {
     "name": "stdout",
     "output_type": "stream",
     "text": [
      "enter the colors with coma seperated:white,red,blue,grey\n",
      "first color: white\n",
      "second color: grey\n"
     ]
    }
   ],
   "source": [
    "#COLOR SEPEARTED BY COMA\n",
    "c=input(\"enter the colors with coma seperated:\")\n",
    "p=c.split(\",\")\n",
    "print(\"first color:\",p[0])\n",
    "print(\"second color:\",p[-1])"
   ]
  },
  {
   "cell_type": "code",
   "execution_count": null,
   "metadata": {
    "collapsed": true
   },
   "outputs": [],
   "source": []
  }
 ],
 "metadata": {
  "kernelspec": {
   "display_name": "Python 3",
   "language": "python",
   "name": "python3"
  },
  "language_info": {
   "codemirror_mode": {
    "name": "ipython",
    "version": 3
   },
   "file_extension": ".py",
   "mimetype": "text/x-python",
   "name": "python",
   "nbconvert_exporter": "python",
   "pygments_lexer": "ipython3",
   "version": "3.6.3"
  }
 },
 "nbformat": 4,
 "nbformat_minor": 2
}
