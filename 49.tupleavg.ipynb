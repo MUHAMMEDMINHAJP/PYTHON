{
 "cells": [
  {
   "cell_type": "code",
   "execution_count": 6,
   "metadata": {},
   "outputs": [
    {
     "name": "stdout",
     "output_type": "stream",
     "text": [
      "enter the numbers seperated by comma:1,5,4,8,4\n",
      "the avg of the given number are: 4.4\n"
     ]
    }
   ],
   "source": [
    "#49 average value of the numbers in a given tuple\n",
    "a=tuple(input (\"enter the numbers seperated by comma:\").split(','))\n",
    "l=len(a)\n",
    "c=0\n",
    "for i in range(l):\n",
    "    c=int(a[i])+c\n",
    "    avg=c/l\n",
    "print(\"the avg of the given number are:\",avg)"
   ]
  },
  {
   "cell_type": "code",
   "execution_count": null,
   "metadata": {
    "collapsed": true
   },
   "outputs": [],
   "source": []
  }
 ],
 "metadata": {
  "kernelspec": {
   "display_name": "Python 3",
   "language": "python",
   "name": "python3"
  },
  "language_info": {
   "codemirror_mode": {
    "name": "ipython",
    "version": 3
   },
   "file_extension": ".py",
   "mimetype": "text/x-python",
   "name": "python",
   "nbconvert_exporter": "python",
   "pygments_lexer": "ipython3",
   "version": "3.6.3"
  }
 },
 "nbformat": 4,
 "nbformat_minor": 2
}
