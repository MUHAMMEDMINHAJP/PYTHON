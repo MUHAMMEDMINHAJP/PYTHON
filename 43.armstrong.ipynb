{
 "cells": [
  {
   "cell_type": "code",
   "execution_count": 11,
   "metadata": {},
   "outputs": [
    {
     "name": "stdout",
     "output_type": "stream",
     "text": [
      "enter the number: 153\n",
      "153 is an armstrong number\n"
     ]
    }
   ],
   "source": [
    "# 43 check the given number is asmstrong or not\n",
    "n=int(input(\"enter the number: \"))\n",
    "sum=0\n",
    "temp=n\n",
    "while (temp>0):\n",
    "    s=temp%10\n",
    "    sum=sum+s**3\n",
    "    temp=temp//10\n",
    "if (n==sum):\n",
    "    print(n,\"is an armstrong number\")\n",
    "else:\n",
    "    print(n,\"is not armstrong number\")"
   ]
  },
  {
   "cell_type": "code",
   "execution_count": null,
   "metadata": {
    "collapsed": true
   },
   "outputs": [],
   "source": []
  }
 ],
 "metadata": {
  "kernelspec": {
   "display_name": "Python 3",
   "language": "python",
   "name": "python3"
  },
  "language_info": {
   "codemirror_mode": {
    "name": "ipython",
    "version": 3
   },
   "file_extension": ".py",
   "mimetype": "text/x-python",
   "name": "python",
   "nbconvert_exporter": "python",
   "pygments_lexer": "ipython3",
   "version": "3.6.3"
  }
 },
 "nbformat": 4,
 "nbformat_minor": 2
}
