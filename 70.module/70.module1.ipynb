{
 "cells": [
  {
   "cell_type": "code",
   "execution_count": null,
   "metadata": {
    "collapsed": true
   },
   "outputs": [],
   "source": []
  },
  {
   "cell_type": "code",
   "execution_count": null,
   "metadata": {},
   "outputs": [
    {
     "name": "stdout",
     "output_type": "stream",
     "text": [
      "1.Rectangle\n",
      "2.Circle\n",
      "3.Exit\n",
      "enter your choice:2\n",
      "enter radius:4\n",
      "\n",
      "\n",
      "area =  50.24\n",
      "primeater = 25.12\n",
      "\n",
      "\n",
      "1.Rectangle\n",
      "2.Circle\n",
      "3.Exit\n",
      "enter your choice:1\n",
      "enter length:4\n",
      "enter breadth:5\n",
      "\n",
      "\n",
      "Area = 20\n",
      "perimeater = 18\n",
      "\n",
      "\n",
      "1.Rectangle\n",
      "2.Circle\n",
      "3.Exit\n"
     ]
    }
   ],
   "source": [
    "import rectangle \n",
    "import circle\n",
    "while(1):\n",
    "    print(\"1.Rectangle\\n2.Circle\\n3.Exit\")\n",
    "    ch=int(input(\"enter your choice:\"))\n",
    "    if ch==1:\n",
    "        l=int(input(\"enter length:\"))\n",
    "        b=int(input(\"enter breadth:\"))\n",
    "        print(\"\\n\")\n",
    "        rectangle.rectarea(l,b)\n",
    "        rectangle.rectperi(l,b)\n",
    "        print(\"\\n\")\n",
    "    if ch==2:\n",
    "        r=int(input(\"enter radius:\"))\n",
    "        print(\"\\n\")\n",
    "        circle.circlearea(r)\n",
    "        circle.circleperi(r)\n",
    "        print(\"\\n\")\n",
    "    if ch==3:\n",
    "        print(\"Exiting...\")\n",
    "        break"
   ]
  },
  {
   "cell_type": "code",
   "execution_count": null,
   "metadata": {
    "collapsed": true
   },
   "outputs": [],
   "source": []
  }
 ],
 "metadata": {
  "kernelspec": {
   "display_name": "Python 3",
   "language": "python",
   "name": "python3"
  },
  "language_info": {
   "codemirror_mode": {
    "name": "ipython",
    "version": 3
   },
   "file_extension": ".py",
   "mimetype": "text/x-python",
   "name": "python",
   "nbconvert_exporter": "python",
   "pygments_lexer": "ipython3",
   "version": "3.6.3"
  }
 },
 "nbformat": 4,
 "nbformat_minor": 2
}
