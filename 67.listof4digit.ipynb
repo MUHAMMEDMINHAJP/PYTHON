{
 "cells": [
  {
   "cell_type": "code",
   "execution_count": 1,
   "id": "014289d0",
   "metadata": {},
   "outputs": [
    {
     "name": "stdout",
     "output_type": "stream",
     "text": [
      "enter four digit lower range:1234\n",
      "enter four digit upper range:9000\n",
      "list:  [4624, 6084, 6400, 8464]\n"
     ]
    }
   ],
   "source": [
    "import math\n",
    "n1=int(input(\"enter four digit lower range:\"))\n",
    "n2=int(input(\"enter four digit upper range:\"))\n",
    "l=[]\n",
    "x=0\n",
    "for i in range(n1,n2):\n",
    "    x=i\n",
    "    while(x!=0):\n",
    "        k1=x%10\n",
    "        x=int(x/10)\n",
    "        k2=x%10\n",
    "        x=int(x/10)\n",
    "        k3=x%10\n",
    "        x=int(x/10)\n",
    "        k4 = x % 10\n",
    "        x = int(x / 10)\n",
    "        sq=int(math.sqrt(i))\n",
    "        if (sq*sq==i):\n",
    "            if (k1%2==0 and k2%2==0 and k3%2==0 and k4%2==0):\n",
    "                l.append(i)\n",
    "print(\"list: \",l)           "
   ]
  },
  {
   "cell_type": "code",
   "execution_count": null,
   "id": "f3da24a6",
   "metadata": {},
   "outputs": [],
   "source": []
  }
 ],
 "metadata": {
  "kernelspec": {
   "display_name": "Python 3 (ipykernel)",
   "language": "python",
   "name": "python3"
  },
  "language_info": {
   "codemirror_mode": {
    "name": "ipython",
    "version": 3
   },
   "file_extension": ".py",
   "mimetype": "text/x-python",
   "name": "python",
   "nbconvert_exporter": "python",
   "pygments_lexer": "ipython3",
   "version": "3.7.11"
  }
 },
 "nbformat": 4,
 "nbformat_minor": 5
}
