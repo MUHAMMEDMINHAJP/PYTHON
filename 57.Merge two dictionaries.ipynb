{
 "cells": [
  {
   "cell_type": "code",
   "execution_count": 2,
   "metadata": {},
   "outputs": [
    {
     "name": "stdout",
     "output_type": "stream",
     "text": [
      " first dictionary = {1: 'football', 2: 'cricket', 3: 'volley ball'}\n",
      "second dictionary = {4: 'hockey', 5: 'bascket ball'}\n",
      "Merging two dictionaries: {4: 'hockey', 5: 'bascket ball', 1: 'football', 2: 'cricket', 3: 'volley ball'}\n"
     ]
    }
   ],
   "source": [
    "#Merge two dictionaries.\n",
    "dict1={1:'football',2:'cricket',3:'volley ball'}\n",
    "dict2={4:'hockey',5:'bascket ball'}\n",
    "print(\" first dictionary =\",dict1)\n",
    "print(\"second dictionary =\",dict2)\n",
    "dict3=dict2\n",
    "dict3.update(dict1)\n",
    "print(\"Merging two dictionaries:\",dict3)\n"
   ]
  },
  {
   "cell_type": "code",
   "execution_count": null,
   "metadata": {
    "collapsed": true
   },
   "outputs": [],
   "source": []
  }
 ],
 "metadata": {
  "kernelspec": {
   "display_name": "Python 3",
   "language": "python",
   "name": "python3"
  },
  "language_info": {
   "codemirror_mode": {
    "name": "ipython",
    "version": 3
   },
   "file_extension": ".py",
   "mimetype": "text/x-python",
   "name": "python",
   "nbconvert_exporter": "python",
   "pygments_lexer": "ipython3",
   "version": "3.6.3"
  }
 },
 "nbformat": 4,
 "nbformat_minor": 2
}
