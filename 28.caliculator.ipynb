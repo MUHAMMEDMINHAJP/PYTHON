{
 "cells": [
  {
   "cell_type": "code",
   "execution_count": 1,
   "metadata": {},
   "outputs": [
    {
     "name": "stdout",
     "output_type": "stream",
     "text": [
      "Select\n",
      "1.ADD\n",
      "2.SUBTRACT\n",
      "3.MULTIPLY\n",
      "4.DIVISION\n",
      "enter your option:1\n",
      "enter the first number:2\n",
      "enter the second number:3\n",
      "ADDITION: ..5.00\n"
     ]
    }
   ],
   "source": [
    "print(\"Select\")\n",
    "print(\"1.ADD\")\n",
    "print(\"2.SUBTRACT\")\n",
    "print(\"3.MULTIPLY\")\n",
    "print(\"4.DIVISION\")\n",
    "opt=int(input(\"enter your option:\"))\n",
    "num=float(input(\"enter the first number:\"))\n",
    "nun=float(input(\"enter the second number:\"))\n",
    "if(opt==1):\n",
    "        print(\"ADDITION: ..%.2f\" %(num+nun))\n",
    "elif(opt==2):\n",
    "        print(\"substraction ..%.2f: \"%(num-nun))\n",
    "elif(opt==3):\n",
    "        print(\"multiply : ..%.2f\" %(num*nun))\n",
    "elif(opt==4):\n",
    "        print(\"division : ..%.2f\" %(num/nun))\n",
    "else:\n",
    "    print(\"invalid option\")    "
   ]
  },
  {
   "cell_type": "code",
   "execution_count": null,
   "metadata": {},
   "outputs": [
    {
     "name": "stdout",
     "output_type": "stream",
     "text": [
      "enter the first number:4\n",
      "enter the second number:3\n",
      "Select\n",
      "1.ADD\n",
      "2.SUBTRACT\n",
      "3.MULTIPLY\n",
      "4.DIVISION\n"
     ]
    }
   ],
   "source": [
    "num=float(input(\"enter the first number:\"))\n",
    "nun=float(input(\"enter the second number:\"))\n",
    "\n",
    "print(\"Select\")\n",
    "print(\"1.ADD\")\n",
    "print(\"2.SUBTRACT\")\n",
    "print(\"3.MULTIPLY\")\n",
    "print(\"4.DIVISION\")\n",
    "opt=int(input(\"enter your option:\"))\n",
    "\n",
    "if(opt==1):\n",
    "        print(\"ADDITION: %.2f\" %(num+nun))\n",
    "elif(opt==2):\n",
    "        print(\"substraction %.2f: \"%(num-nun))\n",
    "elif(opt==3):\n",
    "        print(\"multiply : %.2f\" %(num*nun))\n",
    "elif(opt==4):\n",
    "        print(\"division : %.2f\" %(num/nun))\n",
    "else:\n",
    "    print(\"invalid option\")         "
   ]
  },
  {
   "cell_type": "code",
   "execution_count": null,
   "metadata": {
    "collapsed": true
   },
   "outputs": [],
   "source": []
  },
  {
   "cell_type": "code",
   "execution_count": null,
   "metadata": {
    "collapsed": true
   },
   "outputs": [],
   "source": []
  }
 ],
 "metadata": {
  "kernelspec": {
   "display_name": "Python 3",
   "language": "python",
   "name": "python3"
  },
  "language_info": {
   "codemirror_mode": {
    "name": "ipython",
    "version": 3
   },
   "file_extension": ".py",
   "mimetype": "text/x-python",
   "name": "python",
   "nbconvert_exporter": "python",
   "pygments_lexer": "ipython3",
   "version": "3.6.3"
  }
 },
 "nbformat": 4,
 "nbformat_minor": 2
}
