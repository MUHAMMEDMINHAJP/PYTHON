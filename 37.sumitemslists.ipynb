{
 "cells": [
  {
   "cell_type": "code",
   "execution_count": 1,
   "metadata": {},
   "outputs": [
    {
     "name": "stdout",
     "output_type": "stream",
     "text": [
      "how many numbers:4\n",
      "enter the number:5\n",
      "enter the number:5\n",
      "enter the number:6\n",
      "enter the number:7\n",
      "sum of the numbers in the list is : 23\n"
     ]
    }
   ],
   "source": [
    "#sum of all item in a list\n",
    "list=[]\n",
    "num=int(input(\"how many numbers:\"))\n",
    "for i in range(num):\n",
    "    a=int(input(\"enter the number:\"))\n",
    "    list.append(a)\n",
    "print(\"sum of the numbers in the list is :\",sum(list))"
   ]
  },
  {
   "cell_type": "code",
   "execution_count": null,
   "metadata": {
    "collapsed": true
   },
   "outputs": [],
   "source": []
  }
 ],
 "metadata": {
  "kernelspec": {
   "display_name": "Python 3",
   "language": "python",
   "name": "python3"
  },
  "language_info": {
   "codemirror_mode": {
    "name": "ipython",
    "version": 3
   },
   "file_extension": ".py",
   "mimetype": "text/x-python",
   "name": "python",
   "nbconvert_exporter": "python",
   "pygments_lexer": "ipython3",
   "version": "3.6.3"
  }
 },
 "nbformat": 4,
 "nbformat_minor": 2
}
