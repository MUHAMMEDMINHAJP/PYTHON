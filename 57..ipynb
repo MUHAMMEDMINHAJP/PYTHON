{
 "cells": [
  {
   "cell_type": "code",
   "execution_count": 1,
   "metadata": {},
   "outputs": [
    {
     "name": "stdout",
     "output_type": "stream",
     "text": [
      "{1: 'Argentina', 2: 'Brazil', 3: 'Portugal'}\n",
      "{4: 'France', 5: 'England'}\n",
      "Merging two dictionaries: {4: 'France', 5: 'England', 1: 'Argentina', 2: 'Brazil', 3: 'Portugal'}\n"
     ]
    }
   ],
   "source": [
    "#Merge two dictionaries.\n",
    "dict1={1:'India',2:'',3:'Portugal'}\n",
    "dict2={4:'France',5:'England'}\n",
    "print(dict1)\n",
    "print(dict2)\n",
    "dict3=dict2\n",
    "dict3.update(dict1)\n",
    "print(\"Merging two dictionaries:\",dict3)\n"
   ]
  },
  {
   "cell_type": "code",
   "execution_count": null,
   "metadata": {
    "collapsed": true
   },
   "outputs": [],
   "source": []
  }
 ],
 "metadata": {
  "kernelspec": {
   "display_name": "Python 3",
   "language": "python",
   "name": "python3"
  },
  "language_info": {
   "codemirror_mode": {
    "name": "ipython",
    "version": 3
   },
   "file_extension": ".py",
   "mimetype": "text/x-python",
   "name": "python",
   "nbconvert_exporter": "python",
   "pygments_lexer": "ipython3",
   "version": "3.6.3"
  }
 },
 "nbformat": 4,
 "nbformat_minor": 2
}
