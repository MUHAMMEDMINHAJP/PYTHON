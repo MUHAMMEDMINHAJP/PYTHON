{
 "cells": [
  {
   "cell_type": "code",
   "execution_count": 9,
   "metadata": {},
   "outputs": [
    {
     "name": "stdout",
     "output_type": "stream",
     "text": [
      "enter the string :ananana\n",
      "an@n@n@\n"
     ]
    }
   ],
   "source": [
    "\n",
    "s=input(\"enter the string :\") \n",
    "a=s[0]\n",
    "b=s[1:]\n",
    "c=b.replace(s[0],\"@\") \n",
    "sum=a+c\n",
    "print(sum)"
   ]
  },
  {
   "cell_type": "markdown",
   "metadata": {},
   "source": [
    "s=input(\"enter the string :\")\n",
    "c=s.replace(s[-1],\"@\")\n",
    "print(c)"
   ]
  },
  {
   "cell_type": "code",
   "execution_count": null,
   "metadata": {
    "collapsed": true
   },
   "outputs": [],
   "source": []
  },
  {
   "cell_type": "markdown",
   "metadata": {},
   "source": []
  }
 ],
 "metadata": {
  "kernelspec": {
   "display_name": "Python 3",
   "language": "python",
   "name": "python3"
  }
 },
 "nbformat": 4,
 "nbformat_minor": 2
}
