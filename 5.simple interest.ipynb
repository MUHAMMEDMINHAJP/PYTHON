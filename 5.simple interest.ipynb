{
 "cells": [
  {
   "cell_type": "code",
   "execution_count": 2,
   "metadata": {},
   "outputs": [
    {
     "name": "stdout",
     "output_type": "stream",
     "text": [
      "enter the principle amount:10000\n",
      "enter the number of year:2\n",
      "enter the rate of interest:10\n",
      "simple interest: 2000.0\n"
     ]
    }
   ],
   "source": [
    "p=float(input(\"enter the principle amount:\"))\n",
    "n=float(input(\"enter the number of year:\"))\n",
    "r=float(input(\"enter the rate of interest:\"))\n",
    "si=(p*n*r)/100\n",
    "print(\"simple interest:\",si)"
   ]
  },
  {
   "cell_type": "code",
   "execution_count": null,
   "metadata": {
    "collapsed": true
   },
   "outputs": [],
   "source": []
  }
 ],
 "metadata": {
  "kernelspec": {
   "display_name": "Python 3",
   "language": "python",
   "name": "python3"
  },
  "language_info": {
   "codemirror_mode": {
    "name": "ipython",
    "version": 3
   },
   "file_extension": ".py",
   "mimetype": "text/x-python",
   "name": "python",
   "nbconvert_exporter": "python",
   "pygments_lexer": "ipython3",
   "version": "3.6.3"
  }
 },
 "nbformat": 4,
 "nbformat_minor": 2
}
