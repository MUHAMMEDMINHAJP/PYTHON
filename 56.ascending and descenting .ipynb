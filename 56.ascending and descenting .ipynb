{
 "cells": [
  {
   "cell_type": "code",
   "execution_count": 5,
   "metadata": {},
   "outputs": [
    {
     "name": "stdout",
     "output_type": "stream",
     "text": [
      "DICTIONARY= {1: 'javascript', 3: 'python', 2: 'html', 4: 'css'}\n",
      "\n",
      "dictionary in ascending order: {1: 'javascript', 2: 'html', 3: 'python', 4: 'css'}\n",
      "\n",
      "dictionary in descending order: {4: 'css', 3: 'python', 2: 'html', 1: 'javascript'}\n"
     ]
    }
   ],
   "source": [
    "#ascending and descenting \n",
    "a={1:'javascript',3:'python',2:'html',4:'css'}\n",
    "print(\"DICTIONARY=\",a)\n",
    "items=list(a.items())\n",
    "items.sort()\n",
    "a=dict(items)\n",
    "print(\"\\ndictionary in ascending order:\",a)\n",
    " \n",
    "items=list(a.items())\n",
    "items.reverse()\n",
    "a=dict(items)\n",
    "print(\"\\ndictionary in descending order:\",a)\n"
   ]
  },
  {
   "cell_type": "code",
   "execution_count": null,
   "metadata": {
    "collapsed": true
   },
   "outputs": [],
   "source": []
  }
 ],
 "metadata": {
  "kernelspec": {
   "display_name": "Python 3",
   "language": "python",
   "name": "python3"
  },
  "language_info": {
   "codemirror_mode": {
    "name": "ipython",
    "version": 3
   },
   "file_extension": ".py",
   "mimetype": "text/x-python",
   "name": "python",
   "nbconvert_exporter": "python",
   "pygments_lexer": "ipython3",
   "version": "3.6.3"
  }
 },
 "nbformat": 4,
 "nbformat_minor": 2
}
